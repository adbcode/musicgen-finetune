{
 "cells": [
  {
   "cell_type": "code",
   "execution_count": null,
   "metadata": {
    "id": "4QUr5y-pRd5A",
    "tags": []
   },
   "outputs": [],
   "source": [
    "!pip install pydub"
   ]
  },
  {
   "cell_type": "code",
   "execution_count": null,
   "metadata": {
    "tags": []
   },
   "outputs": [],
   "source": [
    "!conda install --yes \"ffmpeg<5\" -c conda-forge"
   ]
  },
  {
   "cell_type": "code",
   "execution_count": null,
   "metadata": {
    "id": "jAn7QCwB46CN",
    "tags": []
   },
   "outputs": [],
   "source": [
    "!python3 -m pip install -U git+https://github.com/facebookresearch/audiocraft#egg=audiocraft"
   ]
  },
  {
   "cell_type": "code",
   "execution_count": null,
   "metadata": {
    "id": "kuF1jXoZT_pE",
    "tags": []
   },
   "outputs": [],
   "source": [
    "import os\n",
    "import librosa\n",
    "\n",
    "from pydub import AudioSegment"
   ]
  },
  {
   "cell_type": "code",
   "execution_count": null,
   "metadata": {
    "id": "RiTACLKIR-Sx",
    "tags": []
   },
   "outputs": [],
   "source": [
    "# Folder names\n",
    "input_folder_name = \"raw\"\n",
    "output_folder_name = \"output\"\n",
    "musicgen_trainer_dir = \"musicgen_trainer_dir\"\n",
    "\n",
    "if not os.path.exists(input_folder_name):\n",
    "    os.makedirs(input_folder_name)\n",
    "    print(f\"'{input_folder_name}' folder created.\")\n",
    "\n",
    "if not os.path.exists(output_folder_name):\n",
    "    os.makedirs(output_folder_name)\n",
    "    print(f\"'{output_folder_name}' folder created.\")\n",
    "\n",
    "if not os.path.exists(musicgen_trainer_dir):\n",
    "    os.makedirs(musicgen_trainer_dir)\n",
    "    print(f\"'{musicgen_trainer_dir}' folder created.\")"
   ]
  },
  {
   "cell_type": "code",
   "execution_count": null,
   "metadata": {
    "id": "-4cn2y2PU-fh",
    "tags": []
   },
   "outputs": [],
   "source": [
    "def delete_files_in_directory(directory_path):\n",
    "    for file_name in os.listdir(directory_path):\n",
    "        file_path = os.path.join(directory_path, file_name)\n",
    "        if os.path.isfile(file_path):\n",
    "            os.remove(file_path)\n",
    "            print(f\"Deleted: {file_path}\")"
   ]
  },
  {
   "cell_type": "code",
   "execution_count": null,
   "metadata": {
    "tags": []
   },
   "outputs": [],
   "source": [
    "# Uncomment when you need to delete all files in the output directory\n",
    "# delete_files_in_directory(output_folder_name)"
   ]
  },
  {
   "cell_type": "code",
   "execution_count": null,
   "metadata": {
    "id": "qM9hpf0QS3wG",
    "tags": []
   },
   "outputs": [],
   "source": [
    "def process_audio(file_path, output_dir, counter, segment_length=30):\n",
    "    \n",
    "    current_count = counter\n",
    "    \n",
    "    audio = AudioSegment.from_file(file_path)\n",
    "    file_name = os.path.splitext(os.path.basename(file_path))[0]\n",
    "    segment_length_ms = segment_length * 1000\n",
    "    audio = audio.set_frame_rate(32000)\n",
    "    num_segments = (len(audio) + segment_length_ms - 1) // segment_length_ms\n",
    "\n",
    "    for i in range(num_segments):\n",
    "        start_time = i * segment_length_ms\n",
    "\n",
    "        # If this is the last segment, adjust start_time\n",
    "        if i == num_segments - 1:\n",
    "            start_time = len(audio) - segment_length_ms\n",
    "\n",
    "        end_time = start_time + segment_length_ms\n",
    "        \n",
    "        segment = audio[start_time : end_time]\n",
    "        segment.export(os.path.join(output_dir, f'segment_{current_count:03d}.wav'), format='wav')\n",
    "\n",
    "        # Save the caption using file name\n",
    "        with open(os.path.join(output_dir, f'segment_{current_count:03d}.txt'), 'w') as f:\n",
    "            f.write(file_name)\n",
    "            current_count += 1\n",
    "    \n",
    "    print(f\"processed {file_path}.\")\n",
    "    \n",
    "    return current_count"
   ]
  },
  {
   "cell_type": "code",
   "execution_count": null,
   "metadata": {
    "tags": []
   },
   "outputs": [],
   "source": [
    "# Process the input files\n",
    "ctr = 0\n",
    "\n",
    "for file_name in os.listdir(input_folder_name):\n",
    "    if file_name.endswith(\".mp3\") or file_name.endswith(\".m4a\"):\n",
    "        file_path = os.path.join(input_folder_name, file_name)\n",
    "        ctr = process_audio(file_path, output_folder_name, ctr, segment_length=30)"
   ]
  },
  {
   "cell_type": "code",
   "execution_count": null,
   "metadata": {
    "tags": []
   },
   "outputs": [],
   "source": [
    "# Test uniqueness of tag list\n",
    "tag_list = []\n",
    "\n",
    "for file_name in os.listdir(input_folder_name):\n",
    "    if file_name.endswith(\".mp3\") or file_name.endswith(\".m4a\"):\n",
    "        tag_list.append(os.path.splitext(os.path.basename(file_name))[0].split(\",\")[-1])\n",
    "        \n",
    "print(len(set(tag_list)), len(tag_list))"
   ]
  },
  {
   "cell_type": "code",
   "execution_count": null,
   "metadata": {
    "id": "QZOjW3bgFJ0J",
    "tags": []
   },
   "outputs": [],
   "source": [
    "# Test the processed .wav files\n",
    "for file_name in os.listdir(output_directory):\n",
    "    if file_name.endswith('.wav'):\n",
    "        file_path = os.path.join(output_directory, file_name)\n",
    "        audio, sample_rate = librosa.load(file_path, sr=None)\n",
    "        if audio.shape[0] == 32000 * 30:\n",
    "            continue\n",
    "            # print(f\"{file_name} has the correct shape: {audio.shape[0]}\")\n",
    "        else:\n",
    "            print(f\"{file_name} does not have the correct shape. Actual shape: {audio.shape[0]}\")"
   ]
  },
  {
   "cell_type": "markdown",
   "metadata": {
    "id": "RCiRuK7tVy-C"
   },
   "source": [
    "## Training"
   ]
  },
  {
   "cell_type": "code",
   "execution_count": null,
   "metadata": {
    "id": "v99p_Sr94q-4",
    "tags": []
   },
   "outputs": [],
   "source": [
    "!python musicgen_trainer/run.py --dataset_path output"
   ]
  },
  {
   "cell_type": "code",
   "execution_count": null,
   "metadata": {
    "id": "rPppiCyP74aD",
    "tags": []
   },
   "outputs": [],
   "source": [
    "from audiocraft.models import musicgen\n",
    "from audiocraft.utils.notebook import display_audio\n",
    "import torch"
   ]
  },
  {
   "cell_type": "code",
   "execution_count": null,
   "metadata": {
    "colab": {
     "base_uri": "https://localhost:8080/"
    },
    "id": "lRL5fP1VHj7l",
    "outputId": "0b1b356c-4b5c-4e14-ce8b-e40a18c631f8",
    "tags": []
   },
   "outputs": [],
   "source": [
    "model = musicgen.MusicGen.get_pretrained(\"small\", device=\"cuda\")\n",
    "\n",
    "model.set_generation_params(duration=30)\n",
    "\n",
    "model.lm.load_state_dict(torch.load(\"models/lm_final.pt\"))"
   ]
  },
  {
   "cell_type": "code",
   "execution_count": null,
   "metadata": {
    "id": "5cbC7s1wMaOI",
    "tags": []
   },
   "outputs": [],
   "source": [
    "# Generate 4 samples by random\n",
    "res = model.generate_unconditional(4)\n",
    "display_audio(res, 32000)"
   ]
  },
  {
   "cell_type": "code",
   "execution_count": null,
   "metadata": {},
   "outputs": [],
   "source": [
    "from audiocraft.data.audio import audio_write\n",
    "for idx, one_wav in enumerate(res):\n",
    "    # Will save under {idx}.wav, with loudness normalization at -14 db LUFS.\n",
    "    audio_write(f'{idx}', one_wav.cpu(), model.sample_rate, strategy=\"loudness\", loudness_compressor=True)"
   ]
  }
 ],
 "metadata": {
  "accelerator": "GPU",
  "colab": {
   "authorship_tag": "ABX9TyNiY2cwTgd+japyZRbkCOqi",
   "gpuType": "T4",
   "include_colab_link": true,
   "machine_shape": "hm",
   "provenance": []
  },
  "environment": {
   "kernel": "conda-env-audio-py",
   "name": "workbench-notebooks.m113",
   "type": "gcloud",
   "uri": "gcr.io/deeplearning-platform-release/workbench-notebooks:m113"
  },
  "kernelspec": {
   "display_name": "Python 3 (ipykernel) (Local)",
   "language": "python",
   "name": "conda-env-audio-py"
  },
  "language_info": {
   "codemirror_mode": {
    "name": "ipython",
    "version": 3
   },
   "file_extension": ".py",
   "mimetype": "text/x-python",
   "name": "python",
   "nbconvert_exporter": "python",
   "pygments_lexer": "ipython3",
   "version": "3.9.18"
  }
 },
 "nbformat": 4,
 "nbformat_minor": 4
}
